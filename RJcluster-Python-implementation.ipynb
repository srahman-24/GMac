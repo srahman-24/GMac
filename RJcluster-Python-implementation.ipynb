{
 "cells": [
  {
   "cell_type": "code",
   "execution_count": null,
   "id": "6850355f",
   "metadata": {},
   "outputs": [],
   "source": [
    "#!pip install ppx"
   ]
  },
  {
   "cell_type": "code",
   "execution_count": null,
   "id": "bae7656b",
   "metadata": {},
   "outputs": [],
   "source": [
    "import ppx\n",
    "import numpy as np\n",
    "import pandas as pd\n",
    "import matplotlib.pyplot as plt\n",
    "import seaborn as sns"
   ]
  },
  {
   "cell_type": "markdown",
   "id": "03f29180",
   "metadata": {},
   "source": [
    "Meanwhile if you are using AWS Sagemaker, then go to New-> Terminal then run the following code :"
   ]
  },
  {
   "cell_type": "code",
   "execution_count": null,
   "id": "70cbca24",
   "metadata": {},
   "outputs": [],
   "source": [
    "#sudo yum update\n",
    "#sudo yum install R\n",
    "#sudo amazon-linux-extras install R4\n",
    "# If you are in MacOS uncomment and have 'Homebrew' installed, then uncomment the following line :  \n",
    "# brew install r "
   ]
  },
  {
   "cell_type": "markdown",
   "id": "461d19c4",
   "metadata": {},
   "source": [
    "To Install the `rpy2` , run the following line : "
   ]
  },
  {
   "cell_type": "code",
   "execution_count": null,
   "id": "6fd1e8ea",
   "metadata": {},
   "outputs": [],
   "source": [
    "#!pip install rpy2"
   ]
  },
  {
   "cell_type": "markdown",
   "id": "3b135e3f",
   "metadata": {},
   "source": [
    "The `rpy2` Python package will perform the magic that allows us to use R packages in our Python session. The `importr` function give us the power to import `R packages`"
   ]
  },
  {
   "cell_type": "code",
   "execution_count": null,
   "id": "08605974",
   "metadata": {},
   "outputs": [],
   "source": [
    "import rpy2\n",
    "print(rpy2.__version__)"
   ]
  },
  {
   "cell_type": "code",
   "execution_count": null,
   "id": "87f2816a",
   "metadata": {},
   "outputs": [],
   "source": [
    "# import R's \"base\" package\n",
    "base = importr('base')\n",
    "\n",
    "# import R's \"utils\" package\n",
    "utils = importr('utils')"
   ]
  },
  {
   "cell_type": "code",
   "execution_count": null,
   "id": "cf68cca6",
   "metadata": {},
   "outputs": [],
   "source": [
    "# These will let us use R packages:\n",
    "\n",
    "from rpy2.robjects.packages import importr\n",
    "from rpy2.robjects import pandas2ri\n",
    "from rpy2.robjects.vectors import StrVector\n",
    "import rpy2.robjects as robjects\n",
    "\n",
    "# Convert pandas.DataFrames to R dataframes automatically.\n",
    "pandas2ri.activate()"
   ]
  },
  {
   "cell_type": "markdown",
   "id": "73cfe58a",
   "metadata": {},
   "source": [
    "We assign the imported R package `RJcluster` to a variable that we can use like any other Python package. Here, we import `RJcluster`: "
   ]
  },
  {
   "cell_type": "code",
   "execution_count": null,
   "id": "020688d1",
   "metadata": {},
   "outputs": [],
   "source": [
    "def is_r_package_installed(package_name):\n",
    "    try:\n",
    "        rpackages.importr(package_name)\n",
    "        return True\n",
    "    except rpackages.PackageNotInstalledError:\n",
    "        return False"
   ]
  },
  {
   "cell_type": "code",
   "execution_count": null,
   "id": "15c47920",
   "metadata": {},
   "outputs": [],
   "source": [
    "def install_r_package(package_name):\n",
    "    utils = rpackages.importr('utils')\n",
    "    utils.install_packages(StrVector([package_name]))"
   ]
  },
  {
   "cell_type": "code",
   "execution_count": null,
   "id": "bb44c8f8",
   "metadata": {},
   "outputs": [],
   "source": [
    "package_name = \"RJcluster\"\n",
    "\n",
    "if not is_r_package_installed(package_name):\n",
    "    install_r_package(package_name)"
   ]
  },
  {
   "cell_type": "code",
   "execution_count": null,
   "id": "64f7d6d8",
   "metadata": {},
   "outputs": [],
   "source": [
    "RJcluster = importr(\"RJcluster\")"
   ]
  },
  {
   "cell_type": "markdown",
   "id": "5e396efc",
   "metadata": {},
   "source": [
    "`rpy2` is running an **embedded R**. This is may be a little abstract, so there is an object **rpy2.robjects.r** to make it tangible."
   ]
  },
  {
   "cell_type": "code",
   "execution_count": null,
   "id": "5dd4b2cc",
   "metadata": {},
   "outputs": [],
   "source": [
    "r = robjects.r"
   ]
  },
  {
   "cell_type": "markdown",
   "id": "24541bd1",
   "metadata": {},
   "source": [
    "Data input of the RJclust, must be in matrix form. \n",
    "\n",
    "# Example 1:   \n",
    "Input data matrix has only 1 cluster"
   ]
  },
  {
   "cell_type": "code",
   "execution_count": null,
   "id": "e1a7a700",
   "metadata": {},
   "outputs": [],
   "source": [
    "data_matrix  = r.matrix(r.rnorm(80*2000), ncol = 2000)"
   ]
  },
  {
   "cell_type": "code",
   "execution_count": null,
   "id": "0862aa0d",
   "metadata": {},
   "outputs": [],
   "source": [
    "results = RJcluster.RJclust(data_matrix, \n",
    "                           penalty = \"BIC\", \n",
    "                           scaleRJ = False,\n",
    "                            C_max = 10,\n",
    "                            criterion = \"VVI\",\n",
    "                            verbose = True) "
   ]
  },
  {
   "cell_type": "code",
   "execution_count": null,
   "id": "0bf5005a",
   "metadata": {},
   "outputs": [],
   "source": [
    "print(results)"
   ]
  },
  {
   "cell_type": "markdown",
   "id": "da1d6486",
   "metadata": {},
   "source": [
    "When working with data, you may need to convert data between Python and R data types. rpy2 provides functions to handle such conversions: "
   ]
  },
  {
   "cell_type": "markdown",
   "id": "188f7186",
   "metadata": {},
   "source": [
    "`rpy2` swaps `.` for `_` so that it becomes a valid Python variable name."
   ]
  },
  {
   "cell_type": "markdown",
   "id": "49222848",
   "metadata": {},
   "source": [
    "# Example 2\n",
    "\n",
    "Input data matrix is the simulated data set from our package. \n",
    "* having 4 clusters. \n",
    "* Each cluster has size = 20. Total N = 20*4 = 80 \n",
    "* The number of features = p = 220 \n",
    "* sparsity = 0.09, that means only 9% of the matrix values are non-zero \n",
    "* the variance of the signal features = 1 \n",
    "* the variance of the noisy features = 1 \n",
    "\n",
    "You can also change and play with the number of features, p, the cluster sizes, size_vector, noise and the signal levels. \n",
    "\n",
    "For higher dimension, change p to 1000/2000/5000/10000 etc. \n",
    "\n",
    "If you want to change n, change the size_vector accordingly. "
   ]
  },
  {
   "cell_type": "code",
   "execution_count": null,
   "id": "efdb223b",
   "metadata": {},
   "outputs": [],
   "source": [
    "sim_data       = RJcluster.simulate_HD_data(size_vector = r.c(20, 20, 20, 20), p = 220,\n",
    "                    mu = r.matrix(r.c(1.5, 2.5, 0, 1.5, 0, -1.5, -2.5, -1.5), ncol = 2, byrow = True),\n",
    "                    signal_variance = 1, noise_variance = 1, sparsity = 0.09, seed = 1234 )\n",
    "data_matrix    = sim_data.rx2('X')\n",
    "labels         = sim_data.rx2('Y')"
   ]
  },
  {
   "cell_type": "code",
   "execution_count": null,
   "id": "b016541c",
   "metadata": {},
   "outputs": [],
   "source": [
    "results = RJcluster.RJclust(data_matrix, \n",
    "                           penalty = \"BIC\", \n",
    "                           scaleRJ = False,\n",
    "                            C_max = 10,\n",
    "                            criterion = \"VVI\",\n",
    "                            verbose = True) "
   ]
  },
  {
   "cell_type": "code",
   "execution_count": null,
   "id": "3ed64947",
   "metadata": {},
   "outputs": [],
   "source": [
    "print(results)"
   ]
  },
  {
   "cell_type": "markdown",
   "id": "a36e4d4a",
   "metadata": {},
   "source": [
    "Calculate the **Mutual Information Accuracy** "
   ]
  },
  {
   "cell_type": "code",
   "execution_count": null,
   "id": "6a61107e",
   "metadata": {},
   "outputs": [],
   "source": [
    "Accuracy = RJcluster.Mutual_Information(results.rx2('class'), labels)"
   ]
  },
  {
   "cell_type": "code",
   "execution_count": null,
   "id": "32e3d7a1",
   "metadata": {},
   "outputs": [],
   "source": [
    "print(Accuracy)"
   ]
  },
  {
   "cell_type": "markdown",
   "id": "0b8e0155",
   "metadata": {},
   "source": [
    "Both Normalized (nmi) and Adjusted Mutual Information (ami) can be obtained here. "
   ]
  },
  {
   "cell_type": "code",
   "execution_count": null,
   "id": "9ea4386f",
   "metadata": {},
   "outputs": [],
   "source": []
  }
 ],
 "metadata": {
  "kernelspec": {
   "display_name": "conda_python3",
   "language": "python",
   "name": "conda_python3"
  },
  "language_info": {
   "codemirror_mode": {
    "name": "ipython",
    "version": 3
   },
   "file_extension": ".py",
   "mimetype": "text/x-python",
   "name": "python",
   "nbconvert_exporter": "python",
   "pygments_lexer": "ipython3",
   "version": "3.10.10"
  }
 },
 "nbformat": 4,
 "nbformat_minor": 5
}
